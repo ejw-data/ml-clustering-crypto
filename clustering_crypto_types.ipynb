{
 "cells": [
  {
   "cell_type": "code",
   "execution_count": null,
   "id": "3bb898bb",
   "metadata": {},
   "outputs": [],
   "source": [
    "# interested in which "
   ]
  },
  {
   "cell_type": "code",
   "execution_count": 1,
   "id": "2491a3a3",
   "metadata": {
    "tags": []
   },
   "outputs": [],
   "source": [
    "import pandas as pd"
   ]
  },
  {
   "cell_type": "code",
   "execution_count": 2,
   "id": "bbc98843",
   "metadata": {},
   "outputs": [],
   "source": [
    "df = pd.read_csv('data/crypto_data.csv')"
   ]
  },
  {
   "cell_type": "code",
   "execution_count": 5,
   "id": "37ca5373",
   "metadata": {},
   "outputs": [],
   "source": [
    "df.columns = ['id', 'name', 'algorithm', 'is_trading', 'proof_type',\n",
    "       'mined_coins', 'total_coins']"
   ]
  },
  {
   "cell_type": "code",
   "execution_count": 6,
   "id": "d53a5ea2",
   "metadata": {},
   "outputs": [
    {
     "data": {
      "text/html": [
       "<div>\n",
       "<style scoped>\n",
       "    .dataframe tbody tr th:only-of-type {\n",
       "        vertical-align: middle;\n",
       "    }\n",
       "\n",
       "    .dataframe tbody tr th {\n",
       "        vertical-align: top;\n",
       "    }\n",
       "\n",
       "    .dataframe thead th {\n",
       "        text-align: right;\n",
       "    }\n",
       "</style>\n",
       "<table border=\"1\" class=\"dataframe\">\n",
       "  <thead>\n",
       "    <tr style=\"text-align: right;\">\n",
       "      <th></th>\n",
       "      <th>id</th>\n",
       "      <th>name</th>\n",
       "      <th>algorithm</th>\n",
       "      <th>is_trading</th>\n",
       "      <th>proof_type</th>\n",
       "      <th>mined_coins</th>\n",
       "      <th>total_coins</th>\n",
       "    </tr>\n",
       "  </thead>\n",
       "  <tbody>\n",
       "    <tr>\n",
       "      <th>0</th>\n",
       "      <td>42</td>\n",
       "      <td>42 Coin</td>\n",
       "      <td>Scrypt</td>\n",
       "      <td>True</td>\n",
       "      <td>PoW/PoS</td>\n",
       "      <td>4.199995e+01</td>\n",
       "      <td>42</td>\n",
       "    </tr>\n",
       "    <tr>\n",
       "      <th>1</th>\n",
       "      <td>365</td>\n",
       "      <td>365Coin</td>\n",
       "      <td>X11</td>\n",
       "      <td>True</td>\n",
       "      <td>PoW/PoS</td>\n",
       "      <td>NaN</td>\n",
       "      <td>2300000000</td>\n",
       "    </tr>\n",
       "    <tr>\n",
       "      <th>2</th>\n",
       "      <td>404</td>\n",
       "      <td>404Coin</td>\n",
       "      <td>Scrypt</td>\n",
       "      <td>True</td>\n",
       "      <td>PoW/PoS</td>\n",
       "      <td>1.055185e+09</td>\n",
       "      <td>532000000</td>\n",
       "    </tr>\n",
       "    <tr>\n",
       "      <th>3</th>\n",
       "      <td>611</td>\n",
       "      <td>SixEleven</td>\n",
       "      <td>SHA-256</td>\n",
       "      <td>True</td>\n",
       "      <td>PoW</td>\n",
       "      <td>NaN</td>\n",
       "      <td>611000</td>\n",
       "    </tr>\n",
       "    <tr>\n",
       "      <th>4</th>\n",
       "      <td>808</td>\n",
       "      <td>808</td>\n",
       "      <td>SHA-256</td>\n",
       "      <td>True</td>\n",
       "      <td>PoW/PoS</td>\n",
       "      <td>0.000000e+00</td>\n",
       "      <td>0</td>\n",
       "    </tr>\n",
       "  </tbody>\n",
       "</table>\n",
       "</div>"
      ],
      "text/plain": [
       "    id       name algorithm  is_trading proof_type   mined_coins total_coins\n",
       "0   42    42 Coin    Scrypt        True    PoW/PoS  4.199995e+01          42\n",
       "1  365    365Coin       X11        True    PoW/PoS           NaN  2300000000\n",
       "2  404    404Coin    Scrypt        True    PoW/PoS  1.055185e+09   532000000\n",
       "3  611  SixEleven   SHA-256        True        PoW           NaN      611000\n",
       "4  808        808   SHA-256        True    PoW/PoS  0.000000e+00           0"
      ]
     },
     "execution_count": 6,
     "metadata": {},
     "output_type": "execute_result"
    }
   ],
   "source": [
    "df.head()"
   ]
  },
  {
   "cell_type": "code",
   "execution_count": 22,
   "id": "c988ca44",
   "metadata": {},
   "outputs": [
    {
     "data": {
      "text/plain": [
       "id              object\n",
       "name            object\n",
       "algorithm       object\n",
       "is_trading        bool\n",
       "proof_type      object\n",
       "mined_coins    float64\n",
       "total_coins     object\n",
       "dtype: object"
      ]
     },
     "execution_count": 22,
     "metadata": {},
     "output_type": "execute_result"
    }
   ],
   "source": [
    "df.dtypes"
   ]
  },
  {
   "cell_type": "code",
   "execution_count": 24,
   "id": "b46f65e3",
   "metadata": {},
   "outputs": [
    {
     "data": {
      "text/html": [
       "<div>\n",
       "<style scoped>\n",
       "    .dataframe tbody tr th:only-of-type {\n",
       "        vertical-align: middle;\n",
       "    }\n",
       "\n",
       "    .dataframe tbody tr th {\n",
       "        vertical-align: top;\n",
       "    }\n",
       "\n",
       "    .dataframe thead th {\n",
       "        text-align: right;\n",
       "    }\n",
       "</style>\n",
       "<table border=\"1\" class=\"dataframe\">\n",
       "  <thead>\n",
       "    <tr style=\"text-align: right;\">\n",
       "      <th></th>\n",
       "      <th>id</th>\n",
       "      <th>name</th>\n",
       "      <th>algorithm</th>\n",
       "      <th>is_trading</th>\n",
       "      <th>proof_type</th>\n",
       "      <th>mined_coins</th>\n",
       "      <th>total_coins</th>\n",
       "    </tr>\n",
       "  </thead>\n",
       "  <tbody>\n",
       "  </tbody>\n",
       "</table>\n",
       "</div>"
      ],
      "text/plain": [
       "Empty DataFrame\n",
       "Columns: [id, name, algorithm, is_trading, proof_type, mined_coins, total_coins]\n",
       "Index: []"
      ]
     },
     "execution_count": 24,
     "metadata": {},
     "output_type": "execute_result"
    }
   ],
   "source": [
    "df[df.total_coins.isna()]"
   ]
  },
  {
   "cell_type": "code",
   "execution_count": 27,
   "id": "e5da1ea5",
   "metadata": {},
   "outputs": [],
   "source": [
    "df.total_coins = df.total_coins.apply(lambda x: x.replace(\" \", \"\"))\n",
    "df.total_coins = df.total_coins.apply(lambda x: x.replace(\".\", \"\"))"
   ]
  },
  {
   "cell_type": "code",
   "execution_count": 28,
   "id": "419352b0",
   "metadata": {},
   "outputs": [],
   "source": [
    "df.total_coins = pd.to_numeric(df.total_coins)"
   ]
  },
  {
   "cell_type": "code",
   "execution_count": 29,
   "id": "4b8e6d2f",
   "metadata": {},
   "outputs": [
    {
     "data": {
      "text/plain": [
       "id              object\n",
       "name            object\n",
       "algorithm       object\n",
       "is_trading        bool\n",
       "proof_type      object\n",
       "mined_coins    float64\n",
       "total_coins      int64\n",
       "dtype: object"
      ]
     },
     "execution_count": 29,
     "metadata": {},
     "output_type": "execute_result"
    }
   ],
   "source": [
    "df.dtypes"
   ]
  },
  {
   "cell_type": "code",
   "execution_count": 30,
   "id": "3d7d80d9",
   "metadata": {
    "tags": []
   },
   "outputs": [
    {
     "data": {
      "text/plain": [
       "1252"
      ]
     },
     "execution_count": 30,
     "metadata": {},
     "output_type": "execute_result"
    }
   ],
   "source": [
    "# number of records\n",
    "len(df)"
   ]
  },
  {
   "cell_type": "code",
   "execution_count": 43,
   "id": "f70ed48f",
   "metadata": {},
   "outputs": [
    {
     "data": {
      "text/plain": [
       "True     685\n",
       "False     59\n",
       "Name: is_trading, dtype: int64"
      ]
     },
     "execution_count": 43,
     "metadata": {},
     "output_type": "execute_result"
    }
   ],
   "source": [
    "df.is_trading.value_counts()"
   ]
  },
  {
   "cell_type": "code",
   "execution_count": 31,
   "id": "a559b78d",
   "metadata": {
    "tags": []
   },
   "outputs": [
    {
     "data": {
      "text/plain": [
       "Scrypt              424\n",
       "X11                 197\n",
       "SHA-256             131\n",
       "X13                  57\n",
       "PoS                  44\n",
       "                   ... \n",
       "Stanford Folding      1\n",
       "VBFT                  1\n",
       "YescryptR16           1\n",
       "IMesh                 1\n",
       "TRC10                 1\n",
       "Name: algorithm, Length: 95, dtype: int64"
      ]
     },
     "execution_count": 31,
     "metadata": {},
     "output_type": "execute_result"
    }
   ],
   "source": [
    "# distribution of algorithms\n",
    "df.algorithm.value_counts()"
   ]
  },
  {
   "cell_type": "code",
   "execution_count": 32,
   "id": "79bf2860",
   "metadata": {},
   "outputs": [
    {
     "data": {
      "text/plain": [
       "Scrypt            424\n",
       "X11               197\n",
       "SHA-256           131\n",
       "X13                57\n",
       "PoS                44\n",
       "CryptoNight        40\n",
       "Quark              30\n",
       "Equihash           26\n",
       "NeoScrypt          21\n",
       "NIST5              20\n",
       "DPoS               19\n",
       "Ethash             18\n",
       "SHA-256D           18\n",
       "Multiple           18\n",
       "X15                14\n",
       "Lyra2REv2           9\n",
       "Blake               8\n",
       "XEVAN               7\n",
       "Lyra2Z              7\n",
       "Lyra2RE             6\n",
       "Skein               6\n",
       "QuBit               6\n",
       "CryptoNight-V7      6\n",
       "PHI1612             6\n",
       "Scrypt-n            6\n",
       "Name: algorithm, dtype: int64"
      ]
     },
     "execution_count": 32,
     "metadata": {},
     "output_type": "execute_result"
    }
   ],
   "source": [
    "cnts = df.algorithm.value_counts()\n",
    "cnts.loc[lambda x: x > 5]"
   ]
  },
  {
   "cell_type": "code",
   "execution_count": 33,
   "id": "e9ee5cc6",
   "metadata": {},
   "outputs": [
    {
     "data": {
      "text/plain": [
       "0"
      ]
     },
     "execution_count": 33,
     "metadata": {},
     "output_type": "execute_result"
    }
   ],
   "source": [
    "df.algorithm.isna().sum()"
   ]
  },
  {
   "cell_type": "code",
   "execution_count": 34,
   "id": "6a668834",
   "metadata": {},
   "outputs": [
    {
     "data": {
      "text/plain": [
       "id               0\n",
       "name             0\n",
       "algorithm        0\n",
       "is_trading       0\n",
       "proof_type       0\n",
       "mined_coins    508\n",
       "total_coins      0\n",
       "dtype: int64"
      ]
     },
     "execution_count": 34,
     "metadata": {},
     "output_type": "execute_result"
    }
   ],
   "source": [
    "df.isna().sum()"
   ]
  },
  {
   "cell_type": "code",
   "execution_count": 35,
   "id": "4fcad62c",
   "metadata": {},
   "outputs": [
    {
     "data": {
      "text/html": [
       "<div>\n",
       "<style scoped>\n",
       "    .dataframe tbody tr th:only-of-type {\n",
       "        vertical-align: middle;\n",
       "    }\n",
       "\n",
       "    .dataframe tbody tr th {\n",
       "        vertical-align: top;\n",
       "    }\n",
       "\n",
       "    .dataframe thead th {\n",
       "        text-align: right;\n",
       "    }\n",
       "</style>\n",
       "<table border=\"1\" class=\"dataframe\">\n",
       "  <thead>\n",
       "    <tr style=\"text-align: right;\">\n",
       "      <th></th>\n",
       "      <th>mined_coins</th>\n",
       "      <th>total_coins</th>\n",
       "    </tr>\n",
       "  </thead>\n",
       "  <tbody>\n",
       "    <tr>\n",
       "      <th>count</th>\n",
       "      <td>7.440000e+02</td>\n",
       "      <td>1.252000e+03</td>\n",
       "    </tr>\n",
       "    <tr>\n",
       "      <th>mean</th>\n",
       "      <td>3.883103e+09</td>\n",
       "      <td>1.686726e+15</td>\n",
       "    </tr>\n",
       "    <tr>\n",
       "      <th>std</th>\n",
       "      <td>3.867263e+10</td>\n",
       "      <td>4.012377e+16</td>\n",
       "    </tr>\n",
       "    <tr>\n",
       "      <th>min</th>\n",
       "      <td>-5.917978e+09</td>\n",
       "      <td>0.000000e+00</td>\n",
       "    </tr>\n",
       "    <tr>\n",
       "      <th>25%</th>\n",
       "      <td>6.322164e+05</td>\n",
       "      <td>1.800000e+07</td>\n",
       "    </tr>\n",
       "    <tr>\n",
       "      <th>50%</th>\n",
       "      <td>1.340427e+07</td>\n",
       "      <td>6.000000e+07</td>\n",
       "    </tr>\n",
       "    <tr>\n",
       "      <th>75%</th>\n",
       "      <td>9.399895e+07</td>\n",
       "      <td>4.000000e+08</td>\n",
       "    </tr>\n",
       "    <tr>\n",
       "      <th>max</th>\n",
       "      <td>9.899887e+11</td>\n",
       "      <td>1.004466e+18</td>\n",
       "    </tr>\n",
       "  </tbody>\n",
       "</table>\n",
       "</div>"
      ],
      "text/plain": [
       "        mined_coins   total_coins\n",
       "count  7.440000e+02  1.252000e+03\n",
       "mean   3.883103e+09  1.686726e+15\n",
       "std    3.867263e+10  4.012377e+16\n",
       "min   -5.917978e+09  0.000000e+00\n",
       "25%    6.322164e+05  1.800000e+07\n",
       "50%    1.340427e+07  6.000000e+07\n",
       "75%    9.399895e+07  4.000000e+08\n",
       "max    9.899887e+11  1.004466e+18"
      ]
     },
     "execution_count": 35,
     "metadata": {},
     "output_type": "execute_result"
    }
   ],
   "source": [
    "df.describe()"
   ]
  },
  {
   "cell_type": "code",
   "execution_count": null,
   "id": "392600e9",
   "metadata": {
    "tags": []
   },
   "outputs": [],
   "source": [
    "# total coins shows that some values are 0"
   ]
  },
  {
   "cell_type": "code",
   "execution_count": 38,
   "id": "29c23573",
   "metadata": {},
   "outputs": [],
   "source": [
    "df = df[~df.mined_coins.isna()]\n",
    "df_clean = df[df.total_coins > 0]\n"
   ]
  },
  {
   "cell_type": "code",
   "execution_count": 39,
   "id": "db947ad9",
   "metadata": {},
   "outputs": [
    {
     "data": {
      "text/html": [
       "<div>\n",
       "<style scoped>\n",
       "    .dataframe tbody tr th:only-of-type {\n",
       "        vertical-align: middle;\n",
       "    }\n",
       "\n",
       "    .dataframe tbody tr th {\n",
       "        vertical-align: top;\n",
       "    }\n",
       "\n",
       "    .dataframe thead th {\n",
       "        text-align: right;\n",
       "    }\n",
       "</style>\n",
       "<table border=\"1\" class=\"dataframe\">\n",
       "  <thead>\n",
       "    <tr style=\"text-align: right;\">\n",
       "      <th></th>\n",
       "      <th>mined_coins</th>\n",
       "      <th>total_coins</th>\n",
       "    </tr>\n",
       "  </thead>\n",
       "  <tbody>\n",
       "    <tr>\n",
       "      <th>count</th>\n",
       "      <td>6.960000e+02</td>\n",
       "      <td>6.960000e+02</td>\n",
       "    </tr>\n",
       "    <tr>\n",
       "      <th>mean</th>\n",
       "      <td>3.777201e+09</td>\n",
       "      <td>1.581953e+15</td>\n",
       "    </tr>\n",
       "    <tr>\n",
       "      <th>std</th>\n",
       "      <td>3.958846e+10</td>\n",
       "      <td>3.822921e+16</td>\n",
       "    </tr>\n",
       "    <tr>\n",
       "      <th>min</th>\n",
       "      <td>-5.917978e+09</td>\n",
       "      <td>4.200000e+01</td>\n",
       "    </tr>\n",
       "    <tr>\n",
       "      <th>25%</th>\n",
       "      <td>6.583474e+05</td>\n",
       "      <td>2.100000e+07</td>\n",
       "    </tr>\n",
       "    <tr>\n",
       "      <th>50%</th>\n",
       "      <td>1.304427e+07</td>\n",
       "      <td>8.400000e+07</td>\n",
       "    </tr>\n",
       "    <tr>\n",
       "      <th>75%</th>\n",
       "      <td>8.358780e+07</td>\n",
       "      <td>5.000000e+08</td>\n",
       "    </tr>\n",
       "    <tr>\n",
       "      <th>max</th>\n",
       "      <td>9.899887e+11</td>\n",
       "      <td>1.004466e+18</td>\n",
       "    </tr>\n",
       "  </tbody>\n",
       "</table>\n",
       "</div>"
      ],
      "text/plain": [
       "        mined_coins   total_coins\n",
       "count  6.960000e+02  6.960000e+02\n",
       "mean   3.777201e+09  1.581953e+15\n",
       "std    3.958846e+10  3.822921e+16\n",
       "min   -5.917978e+09  4.200000e+01\n",
       "25%    6.583474e+05  2.100000e+07\n",
       "50%    1.304427e+07  8.400000e+07\n",
       "75%    8.358780e+07  5.000000e+08\n",
       "max    9.899887e+11  1.004466e+18"
      ]
     },
     "execution_count": 39,
     "metadata": {},
     "output_type": "execute_result"
    }
   ],
   "source": [
    "df_clean.describe()"
   ]
  },
  {
   "cell_type": "code",
   "execution_count": 41,
   "id": "8b75a642",
   "metadata": {},
   "outputs": [
    {
     "data": {
      "text/plain": [
       "id             0\n",
       "name           0\n",
       "algorithm      0\n",
       "is_trading     0\n",
       "proof_type     0\n",
       "mined_coins    0\n",
       "total_coins    0\n",
       "dtype: int64"
      ]
     },
     "execution_count": 41,
     "metadata": {},
     "output_type": "execute_result"
    }
   ],
   "source": [
    "df_clean.isna().sum()"
   ]
  },
  {
   "cell_type": "code",
   "execution_count": 42,
   "id": "ea44811b",
   "metadata": {},
   "outputs": [
    {
     "data": {
      "text/plain": [
       "696"
      ]
     },
     "execution_count": 42,
     "metadata": {},
     "output_type": "execute_result"
    }
   ],
   "source": [
    "len(df_clean)"
   ]
  },
  {
   "cell_type": "code",
   "execution_count": null,
   "id": "59416c66",
   "metadata": {},
   "outputs": [],
   "source": [
    "# Evaluate the columns for enough values"
   ]
  },
  {
   "cell_type": "code",
   "execution_count": 45,
   "id": "87d33f8e",
   "metadata": {
    "tags": []
   },
   "outputs": [
    {
     "data": {
      "text/plain": [
       "True     637\n",
       "False     59\n",
       "Name: is_trading, dtype: int64"
      ]
     },
     "execution_count": 45,
     "metadata": {},
     "output_type": "execute_result"
    }
   ],
   "source": [
    "df_clean.is_trading.value_counts()"
   ]
  },
  {
   "cell_type": "code",
   "execution_count": 48,
   "id": "d108b0d5",
   "metadata": {},
   "outputs": [
    {
     "data": {
      "text/plain": [
       "Scrypt                   229\n",
       "X11                       98\n",
       "SHA-256                   69\n",
       "CryptoNight               24\n",
       "Quark                     23\n",
       "                        ... \n",
       "SkunkHash v2 Raptor        1\n",
       "VeChainThor Authority      1\n",
       "Ouroboros                  1\n",
       "POS 2.0                    1\n",
       "TRC10                      1\n",
       "Name: algorithm, Length: 81, dtype: int64"
      ]
     },
     "execution_count": 48,
     "metadata": {},
     "output_type": "execute_result"
    }
   ],
   "source": [
    "tmp = df_clean.algorithm.value_counts()\n",
    "tmp"
   ]
  },
  {
   "cell_type": "code",
   "execution_count": 49,
   "id": "0723909e",
   "metadata": {},
   "outputs": [
    {
     "data": {
      "text/plain": [
       "Scrypt         229\n",
       "X11             98\n",
       "SHA-256         69\n",
       "CryptoNight     24\n",
       "Quark           23\n",
       "Equihash        20\n",
       "X13             20\n",
       "PoS             18\n",
       "NeoScrypt       17\n",
       "Ethash          13\n",
       "NIST5           11\n",
       "Name: algorithm, dtype: int64"
      ]
     },
     "execution_count": 49,
     "metadata": {},
     "output_type": "execute_result"
    }
   ],
   "source": [
    "tmp.loc[lambda x: x > 10]"
   ]
  },
  {
   "cell_type": "code",
   "execution_count": 53,
   "id": "73142ff9",
   "metadata": {
    "tags": []
   },
   "outputs": [
    {
     "data": {
      "text/plain": [
       "PoW                     326\n",
       "PoW/PoS                 231\n",
       "PoS                     106\n",
       "DPoS                      8\n",
       "PoC                       3\n",
       "PoS/PoW                   2\n",
       "DPoW                      1\n",
       "LPoS                      1\n",
       "DPoC                      1\n",
       "Proof of Trust            1\n",
       "POS / MN                  1\n",
       "Pos                       1\n",
       "DPOS                      1\n",
       "Zero-Knowledge Proof      1\n",
       "HPoW                      1\n",
       "PoW + Hive                1\n",
       "PoA                       1\n",
       "POBh                      1\n",
       "PoW and PoS               1\n",
       "Proof of Authority        1\n",
       "PoW/PoS                   1\n",
       "TPoS                      1\n",
       "PoW/PoW                   1\n",
       "dPoW/PoW                  1\n",
       "PoW/nPoS                  1\n",
       "PoS/LPoS                  1\n",
       "Name: proof_type, dtype: int64"
      ]
     },
     "execution_count": 53,
     "metadata": {},
     "output_type": "execute_result"
    }
   ],
   "source": [
    "temp = df_clean.proof_type.value_counts()\n",
    "temp"
   ]
  },
  {
   "cell_type": "code",
   "execution_count": 54,
   "id": "e1bb38b5",
   "metadata": {},
   "outputs": [
    {
     "data": {
      "text/plain": [
       "PoW        326\n",
       "PoW/PoS    231\n",
       "PoS        106\n",
       "DPoS         8\n",
       "Name: proof_type, dtype: int64"
      ]
     },
     "execution_count": 54,
     "metadata": {},
     "output_type": "execute_result"
    }
   ],
   "source": [
    "temp.loc[lambda x: x > 5]"
   ]
  },
  {
   "cell_type": "code",
   "execution_count": null,
   "id": "45d099b1",
   "metadata": {},
   "outputs": [],
   "source": []
  }
 ],
 "metadata": {
  "kernelspec": {
   "display_name": "Python [conda env:PythonDataS2022]",
   "language": "python",
   "name": "conda-env-PythonDataS2022-py"
  },
  "language_info": {
   "codemirror_mode": {
    "name": "ipython",
    "version": 3
   },
   "file_extension": ".py",
   "mimetype": "text/x-python",
   "name": "python",
   "nbconvert_exporter": "python",
   "pygments_lexer": "ipython3",
   "version": "3.8.12"
  }
 },
 "nbformat": 4,
 "nbformat_minor": 5
}
